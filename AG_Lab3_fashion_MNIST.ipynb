{
  "nbformat": 4,
  "nbformat_minor": 0,
  "metadata": {
    "colab": {
      "name": "Adil_Gokturk_Lab3.ipynb",
      "version": "0.3.2",
      "provenance": [],
      "collapsed_sections": [],
      "include_colab_link": true
    },
    "kernelspec": {
      "name": "python3",
      "display_name": "Python 3"
    }
  },
  "cells": [
    {
      "cell_type": "markdown",
      "metadata": {
        "id": "view-in-github",
        "colab_type": "text"
      },
      "source": [
        "<a href=\"https://colab.research.google.com/github/hagrian/kaggle-api/blob/master/AG_Lab3_fashion_MNIST.ipynb\" target=\"_parent\"><img src=\"https://colab.research.google.com/assets/colab-badge.svg\" alt=\"Open In Colab\"/></a>"
      ]
    },
    {
      "cell_type": "markdown",
      "metadata": {
        "id": "kaQnY_tmCnY5",
        "colab_type": "text"
      },
      "source": [
        "## **Laboratory Exercise - 3**"
      ]
    },
    {
      "cell_type": "markdown",
      "metadata": {
        "id": "1F94j-VdC2ms",
        "colab_type": "text"
      },
      "source": [
        "**Instructions**\n",
        "\n",
        "The research question is ***can we use algorithms and compute to identify clothing items? Specifically, can we determine which algorithm and compute methodology provides us the most efficient approach for classifying simple fashion images?***\n",
        "\n",
        "Using the base samples available from Zalando Research:\n",
        "\n",
        "*    https://github.com/zalandoresearch/fashion-mnist\n",
        "*    Review the data – clean as appropriate\n",
        "\n",
        "\n",
        "## Load Tensorflow, Keras and a other Libraries \n"
      ]
    },
    {
      "cell_type": "code",
      "metadata": {
        "id": "a0aYHaHPGGPr",
        "colab_type": "code",
        "outputId": "896e1978-84a7-470e-c972-2aec387132dc",
        "colab": {
          "base_uri": "https://localhost:8080/",
          "height": 34
        }
      },
      "source": [
        "from __future__ import  absolute_import, division, print_function, unicode_literals\n",
        "\n",
        "# TensorFlow and tf.keras\n",
        "import tensorflow as tf\n",
        "from tensorflow import keras\n",
        "\n",
        "# Other libraries\n",
        "import numpy as np\n",
        "import matplotlib.pyplot as plt\n",
        "\n",
        "\n",
        "print(tf.__version__)\n",
        "\n"
      ],
      "execution_count": 190,
      "outputs": [
        {
          "output_type": "stream",
          "text": [
            "1.13.1\n"
          ],
          "name": "stdout"
        }
      ]
    },
    {
      "cell_type": "markdown",
      "metadata": {
        "id": "2g0rzzoS66eP",
        "colab_type": "text"
      },
      "source": [
        "## Import the Fashion MNIST dataset\n",
        "The dataset  contains 70,000 grayscale images in 10 categories."
      ]
    },
    {
      "cell_type": "code",
      "metadata": {
        "id": "wGHG7iSq7Qu9",
        "colab_type": "code",
        "colab": {}
      },
      "source": [
        "fashion_mnist = keras.datasets.fashion_mnist\n",
        "(train_images, train_labels), (test_images, test_labels) = fashion_mnist.load_data()"
      ],
      "execution_count": 0,
      "outputs": []
    },
    {
      "cell_type": "markdown",
      "metadata": {
        "id": "1hJo2TJw8T02",
        "colab_type": "text"
      },
      "source": [
        "**Let's add class names**\n",
        "\n",
        "The images are 28x28 NumPy arrays, with pixel values ranging between 0 and 255. The labels are an array of integers, ranging from 0 to 9. These correspond to the class of clothing the image represents\n",
        "\n",
        "**Label Description **\n",
        "\n",
        "0 T-shirt/top \n",
        "1 Trouser \n",
        "2 Pullover \n",
        "3 Dress \n",
        "4 Coat \n",
        "5 Sandal \n",
        "6 Shirt \n",
        "7 Sneaker \n",
        "8 Bag \n",
        "9 Ankle boot"
      ]
    },
    {
      "cell_type": "code",
      "metadata": {
        "id": "YHobfMiE8dts",
        "colab_type": "code",
        "colab": {}
      },
      "source": [
        "class_names = ['T-shirt/top', 'Trouser', 'Pullover', 'Dress', 'Coat',\n",
        "               'Sandal', 'Shirt', 'Sneaker', 'Bag', 'Ankle boot']"
      ],
      "execution_count": 0,
      "outputs": []
    },
    {
      "cell_type": "markdown",
      "metadata": {
        "id": "PmaJmhLo_klT",
        "colab_type": "text"
      },
      "source": [
        "**Explore the data**"
      ]
    },
    {
      "cell_type": "code",
      "metadata": {
        "id": "3GGmpnsl_qGy",
        "colab_type": "code",
        "colab": {
          "base_uri": "https://localhost:8080/",
          "height": 34
        },
        "outputId": "659589b7-e5a9-476a-8c56-9d7f44bfeac6"
      },
      "source": [
        "train_images.shape"
      ],
      "execution_count": 193,
      "outputs": [
        {
          "output_type": "execute_result",
          "data": {
            "text/plain": [
              "(60000, 28, 28)"
            ]
          },
          "metadata": {
            "tags": []
          },
          "execution_count": 193
        }
      ]
    },
    {
      "cell_type": "code",
      "metadata": {
        "id": "nZOT0F0a_u0y",
        "colab_type": "code",
        "colab": {
          "base_uri": "https://localhost:8080/",
          "height": 34
        },
        "outputId": "6567f8a0-b203-40cc-bb40-4a8525fcbdf8"
      },
      "source": [
        "len(train_labels)"
      ],
      "execution_count": 194,
      "outputs": [
        {
          "output_type": "execute_result",
          "data": {
            "text/plain": [
              "60000"
            ]
          },
          "metadata": {
            "tags": []
          },
          "execution_count": 194
        }
      ]
    },
    {
      "cell_type": "code",
      "metadata": {
        "id": "HRQneLSx_2Gb",
        "colab_type": "code",
        "colab": {
          "base_uri": "https://localhost:8080/",
          "height": 34
        },
        "outputId": "22e7efa9-8aca-4cb9-d3f9-415524884803"
      },
      "source": [
        "train_labels"
      ],
      "execution_count": 195,
      "outputs": [
        {
          "output_type": "execute_result",
          "data": {
            "text/plain": [
              "array([9, 0, 0, ..., 3, 0, 5], dtype=uint8)"
            ]
          },
          "metadata": {
            "tags": []
          },
          "execution_count": 195
        }
      ]
    },
    {
      "cell_type": "code",
      "metadata": {
        "id": "Q4ksnzI5_7Ro",
        "colab_type": "code",
        "colab": {
          "base_uri": "https://localhost:8080/",
          "height": 34
        },
        "outputId": "eb1f676c-44b6-4675-da8a-42ba2f085a03"
      },
      "source": [
        "test_images.shape"
      ],
      "execution_count": 196,
      "outputs": [
        {
          "output_type": "execute_result",
          "data": {
            "text/plain": [
              "(10000, 28, 28)"
            ]
          },
          "metadata": {
            "tags": []
          },
          "execution_count": 196
        }
      ]
    },
    {
      "cell_type": "code",
      "metadata": {
        "id": "_hVY26nmADCB",
        "colab_type": "code",
        "colab": {
          "base_uri": "https://localhost:8080/",
          "height": 34
        },
        "outputId": "2733c788-ee1d-4aea-c28b-989a98263740"
      },
      "source": [
        "len(test_labels)"
      ],
      "execution_count": 197,
      "outputs": [
        {
          "output_type": "execute_result",
          "data": {
            "text/plain": [
              "10000"
            ]
          },
          "metadata": {
            "tags": []
          },
          "execution_count": 197
        }
      ]
    },
    {
      "cell_type": "markdown",
      "metadata": {
        "id": "jTEpdDmbANGp",
        "colab_type": "text"
      },
      "source": [
        "## Preprocess the data\n",
        "\n",
        "The data needs to be preprocessed before training the network."
      ]
    },
    {
      "cell_type": "code",
      "metadata": {
        "id": "7OVq1UOMALzL",
        "colab_type": "code",
        "colab": {
          "base_uri": "https://localhost:8080/",
          "height": 286
        },
        "outputId": "e58740e1-1023-49ab-a493-347ddd29edeb"
      },
      "source": [
        "#inspect the first image\n",
        "plt.figure()\n",
        "plt.imshow(train_images[0])\n",
        "plt.colorbar()\n",
        "plt.grid(False)\n",
        "plt.show"
      ],
      "execution_count": 198,
      "outputs": [
        {
          "output_type": "execute_result",
          "data": {
            "text/plain": [
              "<function matplotlib.pyplot.show>"
            ]
          },
          "metadata": {
            "tags": []
          },
          "execution_count": 198
        },
        {
          "output_type": "display_data",
          "data": {
            "image/png": "[encoded data removed]",
            "text/plain": [
              "<Figure size 432x288 with 2 Axes>"
            ]
          },
          "metadata": {
            "tags": []
          }
        }
      ]
    },
    {
      "cell_type": "markdown",
      "metadata": {
        "id": "HBsL4qbaBOaz",
        "colab_type": "text"
      },
      "source": [
        "The scaled values in a range of 0 to 1. To do this, the values divided by (28x28=255)"
      ]
    },
    {
      "cell_type": "code",
      "metadata": {
        "id": "lX_0S8BEB53X",
        "colab_type": "code",
        "colab": {}
      },
      "source": [
        "train_images = train_images / 255.0\n",
        "test_images = test_images /255.0"
      ],
      "execution_count": 0,
      "outputs": []
    },
    {
      "cell_type": "code",
      "metadata": {
        "id": "u4Jpw9WfCGN3",
        "colab_type": "code",
        "colab": {
          "base_uri": "https://localhost:8080/",
          "height": 592
        },
        "outputId": "12e63745-4e17-4d80-d98d-4d96eeb0170a"
      },
      "source": [
        "# Let's display the first 25 images from the traning set \n",
        "# to verify that the data is in the correct format\n",
        "plt.figure(figsize=(10,10))\n",
        "for i in range(25):\n",
        "  plt.subplot(5,5, i+1)\n",
        "  plt.xticks([])\n",
        "  plt.yticks([])\n",
        "  plt.grid(False)\n",
        "  plt.imshow(train_images[i], cmap=plt.cm.binary)\n",
        "  plt.xlabel(class_names[train_labels[i]])\n",
        "plt.show()\n"
      ],
      "execution_count": 200,
      "outputs": [
        {
          "output_type": "display_data",
          "data": {
            "image/png": "[encoded data removed]",
            "text/plain": [
              "<Figure size 720x720 with 25 Axes>"
            ]
          },
          "metadata": {
            "tags": []
          }
        }
      ]
    },
    {
      "cell_type": "markdown",
      "metadata": {
        "id": "cfuCNO_yGlPT",
        "colab_type": "text"
      },
      "source": [
        "## Built the model\n",
        "\n",
        "**Implement at least two approaches for classifying the digits** – examples below:\n",
        "\n",
        "*  Naïve bayes\n",
        "*  Neural Networks\n",
        "*   Keras\n",
        "*   Azure ML\n",
        "*   IBM DSX\n",
        "*  Boosted trees\n",
        "*   Linear classification\n",
        "*   Your choice\n",
        "\n",
        "# Model I\n",
        "\n",
        "## TensorFlow Keras\n",
        "\n",
        "**Set up the layers**\n",
        "The basic building block of a neural network is the layer. Layers extract representations from the data fed into them. \n",
        "\n"
      ]
    },
    {
      "cell_type": "code",
      "metadata": {
        "id": "ndMqPaDXGxyL",
        "colab_type": "code",
        "colab": {}
      },
      "source": [
        "model = keras.Sequential([\n",
        "    keras.layers.Flatten(input_shape = (28,28)),# The first layer, transforms the format of the images from a 2d-array (of 28 by 28 pixels), to a 1d-array of 28 * 28 = 784 pixels.\n",
        "    keras.layers.Dense(128, activation=tf.nn.relu),# First fully-connected neural layer has 128 nodes (or neurons)\n",
        "    keras.layers.Dense(10, activation=tf.nn.softmax) # The second (and last) layer is a 10-node softmax layer—this returns an array of 10 probability scores that sum to 1\n",
        "])\n",
        "\n",
        "#Each node contains a score that indicates the probability that the current image belongs to one of the 10 classes."
      ],
      "execution_count": 0,
      "outputs": []
    },
    {
      "cell_type": "markdown",
      "metadata": {
        "id": "G1A_txtGIeTC",
        "colab_type": "text"
      },
      "source": [
        "**Compile the model**\n",
        "\n",
        "Before the model is ready for training, it needs a few more settings. These are added during the model's compile step:\n",
        "\n",
        "**Loss function**   —This measures how accurate the model is during training. We want to minimize this function to \"steer\" the model in the right direction.\n",
        "\n",
        "**Optimizer**  —This is how the model is updated based on the data it sees and its loss function.\n",
        "\n",
        "**Metrics** —Used to monitor the training and testing steps. The following example uses accuracy, the fraction of the images that are correctly classified."
      ]
    },
    {
      "cell_type": "code",
      "metadata": {
        "id": "JzR00I5ZHnge",
        "colab_type": "code",
        "colab": {}
      },
      "source": [
        "model.compile(optimizer='adam',\n",
        "              loss='sparse_categorical_crossentropy',\n",
        "              metrics=['accuracy'])"
      ],
      "execution_count": 0,
      "outputs": []
    },
    {
      "cell_type": "markdown",
      "metadata": {
        "id": "chL4IY9cJr1b",
        "colab_type": "text"
      },
      "source": [
        "**Train the Model**\n",
        "\n",
        "Train the neural network model"
      ]
    },
    {
      "cell_type": "code",
      "metadata": {
        "id": "zalKqDbrJ68m",
        "colab_type": "code",
        "colab": {
          "base_uri": "https://localhost:8080/",
          "height": 208
        },
        "outputId": "718d6169-75a1-4085-bfdc-37dfb098b5ce"
      },
      "source": [
        "model.fit(train_images, train_labels, epochs=5) #  epochs: Integer. Number of epochs to train the model."
      ],
      "execution_count": 203,
      "outputs": [
        {
          "output_type": "stream",
          "text": [
            "Epoch 1/5\n",
            "60000/60000 [==============================] - 10s 159us/sample - loss: 0.4944 - acc: 0.8262\n",
            "Epoch 2/5\n",
            "60000/60000 [==============================] - 10s 165us/sample - loss: 0.3730 - acc: 0.8649\n",
            "Epoch 3/5\n",
            "60000/60000 [==============================] - 10s 164us/sample - loss: 0.3368 - acc: 0.8783\n",
            "Epoch 4/5\n",
            "60000/60000 [==============================] - 10s 160us/sample - loss: 0.3126 - acc: 0.8863\n",
            "Epoch 5/5\n",
            "60000/60000 [==============================] - 9s 158us/sample - loss: 0.2947 - acc: 0.8914\n"
          ],
          "name": "stdout"
        },
        {
          "output_type": "execute_result",
          "data": {
            "text/plain": [
              "<tensorflow.python.keras.callbacks.History at 0x7fd6f6dd73c8>"
            ]
          },
          "metadata": {
            "tags": []
          },
          "execution_count": 203
        }
      ]
    },
    {
      "cell_type": "markdown",
      "metadata": {
        "id": "4Itk3_j1KugQ",
        "colab_type": "text"
      },
      "source": [
        "###  Accuracy of the model\n",
        "The model has an accuracy of about 0.89.25 (or **89.25%**) on the training data\n",
        "\n",
        "## Evaluate the accuracy\n",
        "Let's compare how the model performs on the test dataset"
      ]
    },
    {
      "cell_type": "code",
      "metadata": {
        "id": "ctWQojB1Lfko",
        "colab_type": "code",
        "colab": {
          "base_uri": "https://localhost:8080/",
          "height": 52
        },
        "outputId": "22df3c8e-f924-4019-8130-f8949c57f449"
      },
      "source": [
        "test_loss, test_acc =model.evaluate(test_images, test_labels)\n",
        "\n",
        "print('Test accuracy: ', test_acc)"
      ],
      "execution_count": 204,
      "outputs": [
        {
          "output_type": "stream",
          "text": [
            "10000/10000 [==============================] - 1s 58us/sample - loss: 0.3580 - acc: 0.8711\n",
            "Test accuracy:  0.8711\n"
          ],
          "name": "stdout"
        }
      ]
    },
    {
      "cell_type": "markdown",
      "metadata": {
        "id": "6v3sbcICMBU4",
        "colab_type": "text"
      },
      "source": [
        "**The Accuracy on the Test dataset**\n",
        "\n",
        "Apperantly,  **the accuracy on the test dataset is a little less than the accuracy on the training dataset, which is 87.42%.** This gap between training accuracy and test accuracy is an example of **overfitting**. \n",
        "\n",
        "Overfitting is when a machine learning model performs worse on new data than on their training data.\n",
        "\n",
        "## Let's Make Predictions\n",
        "make predictions about some images"
      ]
    },
    {
      "cell_type": "code",
      "metadata": {
        "id": "PTv7GUO3Mz5Z",
        "colab_type": "code",
        "colab": {}
      },
      "source": [
        "predictions = model.predict(test_images)"
      ],
      "execution_count": 0,
      "outputs": []
    },
    {
      "cell_type": "code",
      "metadata": {
        "id": "dierOgS8NBmw",
        "colab_type": "code",
        "colab": {
          "base_uri": "https://localhost:8080/",
          "height": 69
        },
        "outputId": "4a3a688e-7b9a-4bdc-a1be-77188047def4"
      },
      "source": [
        "# Let's take a look at the first prediction\n",
        "predictions[0]"
      ],
      "execution_count": 206,
      "outputs": [
        {
          "output_type": "execute_result",
          "data": {
            "text/plain": [
              "array([2.8376273e-06, 1.4326816e-08, 1.1887979e-06, 1.9731621e-08,\n",
              "       5.5640839e-07, 1.5428230e-02, 1.2915802e-06, 4.3751966e-02,\n",
              "       2.0538011e-05, 9.4079340e-01], dtype=float32)"
            ]
          },
          "metadata": {
            "tags": []
          },
          "execution_count": 206
        }
      ]
    },
    {
      "cell_type": "markdown",
      "metadata": {
        "id": "gK5u4Fw1NSjh",
        "colab_type": "text"
      },
      "source": [
        "A prediction is an array of 10 numbers. These describe the \"confidence\" of the model that the image corresponds to each of the 10 different articles of clothing. We can see which label has the highest confidence value:"
      ]
    },
    {
      "cell_type": "code",
      "metadata": {
        "id": "2wEioGlZNZ1u",
        "colab_type": "code",
        "colab": {
          "base_uri": "https://localhost:8080/",
          "height": 34
        },
        "outputId": "6c39acb4-846b-4430-859f-9ceed8707c4a"
      },
      "source": [
        "np.argmax(predictions[0])"
      ],
      "execution_count": 207,
      "outputs": [
        {
          "output_type": "execute_result",
          "data": {
            "text/plain": [
              "9"
            ]
          },
          "metadata": {
            "tags": []
          },
          "execution_count": 207
        }
      ]
    },
    {
      "cell_type": "markdown",
      "metadata": {
        "id": "gjLx2ESINmBI",
        "colab_type": "text"
      },
      "source": [
        "Evidently,  the model is most confident that **this image is an ankle boot.**\n",
        "Let's check the test label to see this is correct:"
      ]
    },
    {
      "cell_type": "code",
      "metadata": {
        "id": "-1udMvf-N8i4",
        "colab_type": "code",
        "colab": {
          "base_uri": "https://localhost:8080/",
          "height": 34
        },
        "outputId": "e688d358-17f4-4815-cd4c-e2dad0828576"
      },
      "source": [
        "test_labels[0]"
      ],
      "execution_count": 208,
      "outputs": [
        {
          "output_type": "execute_result",
          "data": {
            "text/plain": [
              "9"
            ]
          },
          "metadata": {
            "tags": []
          },
          "execution_count": 208
        }
      ]
    },
    {
      "cell_type": "markdown",
      "metadata": {
        "id": "DHzWLV5gO3l5",
        "colab_type": "text"
      },
      "source": [
        "Looks good, the first image is an **ankle boot**\n",
        "\n",
        "**Lets graph the full set of 10 class predictions**"
      ]
    },
    {
      "cell_type": "code",
      "metadata": {
        "id": "2vfWhJVyO17w",
        "colab_type": "code",
        "colab": {}
      },
      "source": [
        "def plot_image(i, predictions_array, true_label, img):\n",
        "  predictions_array, true_label, img = predictions_array[i], true_label[i], img[i]\n",
        "  plt.grid(False)\n",
        "  plt.xticks([])\n",
        "  plt.yticks([])\n",
        "  \n",
        "  plt.imshow(img, cmap=plt.cm.binary)\n",
        "  \n",
        "  predicted_label = np.argmax(predictions_array)\n",
        "  if predicted_label == true_label:\n",
        "    color = 'blue'\n",
        "  else:\n",
        "    color = 'red'\n",
        "  \n",
        "  plt.xlabel(\"{} {:2.0f}% ({})\".format(class_names[predicted_label],\n",
        "                                100*np.max(predictions_array),\n",
        "                                class_names[true_label]),\n",
        "                                color=color)\n",
        "\n",
        "def plot_value_array(i, predictions_array, true_label):\n",
        "  predictions_array, true_label = predictions_array[i], true_label[i]\n",
        "  plt.grid(False)\n",
        "  plt.xticks([])\n",
        "  plt.yticks([])\n",
        "  thisplot = plt.bar(range(10), predictions_array, color=\"#777777\")\n",
        "  plt.ylim([0, 1])\n",
        "  predicted_label = np.argmax(predictions_array)\n",
        "  \n",
        "  thisplot[predicted_label].set_color('red')\n",
        "  thisplot[true_label].set_color('blue')"
      ],
      "execution_count": 0,
      "outputs": []
    },
    {
      "cell_type": "markdown",
      "metadata": {
        "id": "ok4CEwmgODOF",
        "colab_type": "text"
      },
      "source": [
        "Let's look at the first image [0], predictions, and prediction array"
      ]
    },
    {
      "cell_type": "code",
      "metadata": {
        "id": "D4q4xjLqPw4Q",
        "colab_type": "code",
        "colab": {
          "base_uri": "https://localhost:8080/",
          "height": 205
        },
        "outputId": "f156e4f5-b088-418b-a3d1-43b664d2914a"
      },
      "source": [
        "i = 0\n",
        "plt.figure(figsize=(6, 3))\n",
        "plt.subplot(1,2,1)\n",
        "plot_image(i, predictions, test_labels, test_images)\n",
        "plt.subplot(1,2,2)\n",
        "plot_value_array(i, predictions, test_labels)\n",
        "plt.show()"
      ],
      "execution_count": 210,
      "outputs": [
        {
          "output_type": "display_data",
          "data": {
            "image/png": "[encoded data removed]",
            "text/plain": [
              "<Figure size 432x216 with 2 Axes>"
            ]
          },
          "metadata": {
            "tags": []
          }
        }
      ]
    },
    {
      "cell_type": "code",
      "metadata": {
        "id": "aHTkxONCQdZX",
        "colab_type": "code",
        "colab": {
          "base_uri": "https://localhost:8080/",
          "height": 205
        },
        "outputId": "c8cf3e24-772d-4f01-99d8-15deb4f5fb55"
      },
      "source": [
        "# let try for the 13th image\n",
        "i = 12\n",
        "plt.figure(figsize=(6, 3))\n",
        "plt.subplot(1,2,1)\n",
        "plot_image(i, predictions, test_labels, test_images)\n",
        "plt.subplot(1,2,2)\n",
        "plot_value_array(i, predictions, test_labels)\n",
        "plt.show()"
      ],
      "execution_count": 211,
      "outputs": [
        {
          "output_type": "display_data",
          "data": {
            "image/png": "[encoded data removed]",
            "text/plain": [
              "<Figure size 432x216 with 2 Axes>"
            ]
          },
          "metadata": {
            "tags": []
          }
        }
      ]
    },
    {
      "cell_type": "markdown",
      "metadata": {
        "id": "TQXllz8ZQu8c",
        "colab_type": "text"
      },
      "source": [
        "Let's plot several images with their predictions. **Correct prediction labels are blue** and **incorrect prediction labels are red.** \n",
        "\n",
        "The number gives the percent (out of 100) for the predicted label.\n",
        "\n",
        "Note that **it can be wrong even when very confident.**"
      ]
    },
    {
      "cell_type": "code",
      "metadata": {
        "id": "gW7zslxQQ4yd",
        "colab_type": "code",
        "colab": {
          "base_uri": "https://localhost:8080/",
          "height": 592
        },
        "outputId": "dcf6118f-f6e9-42c5-d10a-d42898d1c12b"
      },
      "source": [
        "num_rows = 5\n",
        "num_cols = 3\n",
        "num_images = num_rows*num_cols\n",
        "plt.figure(figsize=(2*2*num_cols, 2*num_rows))\n",
        "for i in range(num_images):\n",
        "  plt.subplot(num_rows, 2*num_cols, 2*i+1)\n",
        "  plot_image(i, predictions, test_labels, test_images)\n",
        "  plt.subplot(num_rows, 2*num_cols, 2*i+2)\n",
        "  plot_value_array(i, predictions, test_labels)\n",
        "plt.show()"
      ],
      "execution_count": 212,
      "outputs": [
        {
          "output_type": "display_data",
          "data": {
            "image/png": "[encoded data removed]",
            "text/plain": [
              "<Figure size 864x720 with 30 Axes>"
            ]
          },
          "metadata": {
            "tags": []
          }
        }
      ]
    },
    {
      "cell_type": "markdown",
      "metadata": {
        "id": "4-yZU0UHRMV4",
        "colab_type": "text"
      },
      "source": [
        "Let's use the trained model to make a prediction about a single image."
      ]
    },
    {
      "cell_type": "code",
      "metadata": {
        "id": "1uzQvAi_RIoP",
        "colab_type": "code",
        "colab": {
          "base_uri": "https://localhost:8080/",
          "height": 34
        },
        "outputId": "4cd17373-ce86-4a49-c80d-d93bb70e4182"
      },
      "source": [
        "# Grab an image from the test dataset\n",
        "img = test_images[0]\n",
        "\n",
        "print(img.shape)"
      ],
      "execution_count": 213,
      "outputs": [
        {
          "output_type": "stream",
          "text": [
            "(28, 28)\n"
          ],
          "name": "stdout"
        }
      ]
    },
    {
      "cell_type": "code",
      "metadata": {
        "id": "SjhgCzA8RX32",
        "colab_type": "code",
        "colab": {
          "base_uri": "https://localhost:8080/",
          "height": 34
        },
        "outputId": "a3141796-0b6c-4abe-8f03-d098e509a50e"
      },
      "source": [
        "# Add the image to a batch where it's the only member.\n",
        "img = (np.expand_dims(img,0))\n",
        "\n",
        "print(img.shape)"
      ],
      "execution_count": 214,
      "outputs": [
        {
          "output_type": "stream",
          "text": [
            "(1, 28, 28)\n"
          ],
          "name": "stdout"
        }
      ]
    },
    {
      "cell_type": "markdown",
      "metadata": {
        "id": "amvX3x6lRdGs",
        "colab_type": "text"
      },
      "source": [
        "**Predict the image**"
      ]
    },
    {
      "cell_type": "code",
      "metadata": {
        "id": "zbeggL9wRaMh",
        "colab_type": "code",
        "colab": {
          "base_uri": "https://localhost:8080/",
          "height": 69
        },
        "outputId": "c0ba0da3-0d8f-4115-c6ef-1d622d9eb6be"
      },
      "source": [
        "predictions_single = model.predict(img)\n",
        "print(predictions_single)"
      ],
      "execution_count": 215,
      "outputs": [
        {
          "output_type": "stream",
          "text": [
            "[[2.83762733e-06 1.43267895e-08 1.18879666e-06 1.97316208e-08\n",
            "  5.56407826e-07 1.54282143e-02 1.29157786e-06 4.37519215e-02\n",
            "  2.05379893e-05 9.40793395e-01]]\n"
          ],
          "name": "stdout"
        }
      ]
    },
    {
      "cell_type": "code",
      "metadata": {
        "id": "YPxl1QkWRzci",
        "colab_type": "code",
        "colab": {
          "base_uri": "https://localhost:8080/",
          "height": 304
        },
        "outputId": "a0a82176-fc0b-48be-b3b7-11a6c7eccdab"
      },
      "source": [
        "# Let's plot the single prediction\n",
        "plot_value_array(0, predictions_single, test_labels)\n",
        "plt.xticks(range(10), class_names, rotation=45)\n",
        "plt.show()"
      ],
      "execution_count": 216,
      "outputs": [
        {
          "output_type": "display_data",
          "data": {
            "image/png": "[encoded data removed]",
            "text/plain": [
              "<Figure size 432x288 with 1 Axes>"
            ]
          },
          "metadata": {
            "tags": []
          }
        }
      ]
    },
    {
      "cell_type": "code",
      "metadata": {
        "id": "X8WD5Dt-SSkW",
        "colab_type": "code",
        "colab": {
          "base_uri": "https://localhost:8080/",
          "height": 34
        },
        "outputId": "292f5fdd-203a-4492-b8ec-fd49ec04e67f"
      },
      "source": [
        "#Let's evaluate the highest prediction of the batch\n",
        "prediction_result = np.argmax(predictions_single[0])\n",
        "print(prediction_result)"
      ],
      "execution_count": 217,
      "outputs": [
        {
          "output_type": "stream",
          "text": [
            "9\n"
          ],
          "name": "stdout"
        }
      ]
    },
    {
      "cell_type": "markdown",
      "metadata": {
        "id": "nDKeKSf3SujN",
        "colab_type": "text"
      },
      "source": [
        "Looks good, the model predicts a label of 9, which is an ankle boot as it before.\n",
        "\n",
        "## Interpret \n",
        "\n",
        "Let's build a function for plotting the result of the model.\n"
      ]
    },
    {
      "cell_type": "code",
      "metadata": {
        "id": "AyrfjZ4qGyWY",
        "colab_type": "code",
        "colab": {}
      },
      "source": [
        ""
      ],
      "execution_count": 0,
      "outputs": []
    },
    {
      "cell_type": "markdown",
      "metadata": {
        "id": "txhlM3CvTX1H",
        "colab_type": "text"
      },
      "source": [
        "# Model II\n",
        "\n",
        "## TensorFlow Linear Model\n",
        "\n",
        "Load the dataset\n"
      ]
    },
    {
      "cell_type": "code",
      "metadata": {
        "id": "26ZjkU7mzWsX",
        "colab_type": "code",
        "colab": {
          "base_uri": "https://localhost:8080/",
          "height": 34
        },
        "outputId": "95d980f4-6877-4f29-bafc-db55e1cfa3fb"
      },
      "source": [
        "%%bash\n",
        "rm -r data/fashion"
      ],
      "execution_count": 147,
      "outputs": [
        {
          "output_type": "stream",
          "text": [
            "rm: cannot remove 'data/fashion': No such file or directory\n"
          ],
          "name": "stderr"
        }
      ]
    },
    {
      "cell_type": "markdown",
      "metadata": {
        "id": "q8bJJs3r9GMd",
        "colab_type": "text"
      },
      "source": [
        "**Loading data with Tensorflow**\n",
        "\n",
        "The  downloaded  data must be placed it in data/fashion. Otherwise, Tensorflow will download and use the original MNIST."
      ]
    },
    {
      "cell_type": "code",
      "metadata": {
        "id": "RsSkv-mvTw-x",
        "colab_type": "code",
        "colab": {
          "base_uri": "https://localhost:8080/",
          "height": 34
        },
        "outputId": "8852639f-ca50-476b-ea21-02ce429c30ee"
      },
      "source": [
        "import tensorflow as tf\n",
        "from tensorflow.examples.tutorials.mnist import input_data\n",
        "import numpy as np\n",
        "\n",
        "tf.logging.set_verbosity(tf.logging.INFO)\n",
        "\n",
        "print(tf.__version__)\n",
        "\n",
        "\n",
        "\n",
        "base_model_dir = \"data/fashion\""
      ],
      "execution_count": 148,
      "outputs": [
        {
          "output_type": "stream",
          "text": [
            "1.13.1\n"
          ],
          "name": "stdout"
        }
      ]
    },
    {
      "cell_type": "code",
      "metadata": {
        "id": "PIq8KwntD_HW",
        "colab_type": "code",
        "colab": {}
      },
      "source": [
        "feature_columns = [\n",
        "    tf.feature_column.numeric_column(\n",
        "        \"pixels\", shape=784)]"
      ],
      "execution_count": 0,
      "outputs": []
    },
    {
      "cell_type": "code",
      "metadata": {
        "id": "OzbiKkwQF5MQ",
        "colab_type": "code",
        "outputId": "df664a7e-b5f8-4b74-89a6-7fa15c0f31d2",
        "colab": {
          "base_uri": "https://localhost:8080/",
          "height": 312
        }
      },
      "source": [
        "classifier = tf.estimator.LinearClassifier(\n",
        "  feature_columns = feature_columns,\n",
        "  n_classes=10, # 10 different possible classes for the label\n",
        "  model_dir=base_model_dir + \"linear\")"
      ],
      "execution_count": 150,
      "outputs": [
        {
          "output_type": "stream",
          "text": [
            "INFO:tensorflow:Using default config.\n",
            "INFO:tensorflow:Using config: {'_model_dir': 'data/fashionlinear', '_tf_random_seed': None, '_save_summary_steps': 100, '_save_checkpoints_steps': None, '_save_checkpoints_secs': 600, '_session_config': allow_soft_placement: true\n",
            "graph_options {\n",
            "  rewrite_options {\n",
            "    meta_optimizer_iterations: ONE\n",
            "  }\n",
            "}\n",
            ", '_keep_checkpoint_max': 5, '_keep_checkpoint_every_n_hours': 10000, '_log_step_count_steps': 100, '_train_distribute': None, '_device_fn': None, '_protocol': None, '_eval_distribute': None, '_experimental_distribute': None, '_service': None, '_cluster_spec': <tensorflow.python.training.server_lib.ClusterSpec object at 0x7fd6fa3f19e8>, '_task_type': 'worker', '_task_id': 0, '_global_id_in_cluster': 0, '_master': '', '_evaluation_master': '', '_is_chief': True, '_num_ps_replicas': 0, '_num_worker_replicas': 1}\n"
          ],
          "name": "stdout"
        }
      ]
    },
    {
      "cell_type": "code",
      "metadata": {
        "id": "FG3lQQyoHSYf",
        "colab_type": "code",
        "colab": {}
      },
      "source": [
        "def make_input_fn(data, batch_size, num_epochs, shuffle):\n",
        "    return tf.estimator.inputs.numpy_input_fn(\n",
        "             x={'pixels': data.images},\n",
        "             y=data.labels.astype(np.int64),\n",
        "             batch_size=batch_size,\n",
        "             num_epochs=num_epochs,\n",
        "             shuffle=shuffle)"
      ],
      "execution_count": 0,
      "outputs": []
    },
    {
      "cell_type": "code",
      "metadata": {
        "id": "erOaOdUJIkF6",
        "colab_type": "code",
        "outputId": "2469cd87-74b6-45b5-e365-b98e19c34c01",
        "colab": {
          "base_uri": "https://localhost:8080/",
          "height": 86
        }
      },
      "source": [
        "#DATA_SETS=input_data.read_data_sets('data/fashion', source_url='http://fashion-mnist.s3-website.eu-central-1.amazonaws.com/')\n",
        "#DATA_SETS= mnist = input_data.read_data_sets(\"/tmp/data1/\", one_hot=True, source_url='http://fashion-mnist.s3-website.eu-central-1.amazonaws.com/')\n",
        "#DATA_SETS= input_data.read_data_sets(\"/Users/HAG/Desktop/Spring2019/IST718BigData/HWs/C5W9Lab/fashion-mnist-master/data/fashion\")\n",
        "DATA_SETS = input_data.read_data_sets(\"/Users/HAG/data/fashion\")\n",
        "#DATA_SETS = input_data.read_data_sets(\"data/fashion\")"
      ],
      "execution_count": 152,
      "outputs": [
        {
          "output_type": "stream",
          "text": [
            "Extracting /Users/HAG/data/fashion/train-images-idx3-ubyte.gz\n",
            "Extracting /Users/HAG/data/fashion/train-labels-idx1-ubyte.gz\n",
            "Extracting /Users/HAG/data/fashion/t10k-images-idx3-ubyte.gz\n",
            "Extracting /Users/HAG/data/fashion/t10k-labels-idx1-ubyte.gz\n"
          ],
          "name": "stdout"
        }
      ]
    },
    {
      "cell_type": "markdown",
      "metadata": {
        "id": "Xwgucc1B7o5v",
        "colab_type": "text"
      },
      "source": [
        "## Classifier and the Accuracy"
      ]
    },
    {
      "cell_type": "code",
      "metadata": {
        "id": "C3DHAOrcNR_x",
        "colab_type": "code",
        "outputId": "a164abf5-c161-46e2-ac93-ca26391ae957",
        "colab": {
          "base_uri": "https://localhost:8080/",
          "height": 922
        }
      },
      "source": [
        "classifier.train(input_fn=make_input_fn(DATA_SETS.train, \n",
        "                               batch_size=100, \n",
        "                               num_epochs=2, \n",
        "                               shuffle=True))\n",
        "\n",
        "accuracy_score = classifier.evaluate(\n",
        "    input_fn=make_input_fn(\n",
        "        DATA_SETS.test, \n",
        "        batch_size=100, \n",
        "        num_epochs=1, \n",
        "        shuffle=False))['accuracy']\n",
        "\n",
        "print(accuracy_score)"
      ],
      "execution_count": 153,
      "outputs": [
        {
          "output_type": "stream",
          "text": [
            "INFO:tensorflow:Calling model_fn.\n",
            "INFO:tensorflow:Done calling model_fn.\n",
            "INFO:tensorflow:Create CheckpointSaverHook.\n",
            "INFO:tensorflow:Graph was finalized.\n",
            "INFO:tensorflow:Restoring parameters from data/fashionlinear/model.ckpt-4400\n",
            "INFO:tensorflow:Running local_init_op.\n",
            "INFO:tensorflow:Done running local_init_op.\n",
            "INFO:tensorflow:Saving checkpoints for 4400 into data/fashionlinear/model.ckpt.\n",
            "INFO:tensorflow:loss = 34.544678, step = 4401\n",
            "INFO:tensorflow:global_step/sec: 316.811\n",
            "INFO:tensorflow:loss = 23.2266, step = 4501 (0.318 sec)\n",
            "INFO:tensorflow:global_step/sec: 339.907\n",
            "INFO:tensorflow:loss = 30.354553, step = 4601 (0.295 sec)\n",
            "INFO:tensorflow:global_step/sec: 300.041\n",
            "INFO:tensorflow:loss = 45.704437, step = 4701 (0.337 sec)\n",
            "INFO:tensorflow:global_step/sec: 321.989\n",
            "INFO:tensorflow:loss = 20.881525, step = 4801 (0.306 sec)\n",
            "INFO:tensorflow:global_step/sec: 333.17\n",
            "INFO:tensorflow:loss = 23.921946, step = 4901 (0.303 sec)\n",
            "INFO:tensorflow:global_step/sec: 340.072\n",
            "INFO:tensorflow:loss = 32.199776, step = 5001 (0.291 sec)\n",
            "INFO:tensorflow:global_step/sec: 342.183\n",
            "INFO:tensorflow:loss = 12.496798, step = 5101 (0.292 sec)\n",
            "INFO:tensorflow:global_step/sec: 272.564\n",
            "INFO:tensorflow:loss = 43.93223, step = 5201 (0.366 sec)\n",
            "INFO:tensorflow:global_step/sec: 347.649\n",
            "INFO:tensorflow:loss = 20.437567, step = 5301 (0.288 sec)\n",
            "INFO:tensorflow:global_step/sec: 354.369\n",
            "INFO:tensorflow:loss = 17.257343, step = 5401 (0.283 sec)\n",
            "INFO:tensorflow:Saving checkpoints for 5500 into data/fashionlinear/model.ckpt.\n",
            "WARNING:tensorflow:From /usr/local/lib/python3.6/dist-packages/tensorflow/python/training/saver.py:966: remove_checkpoint (from tensorflow.python.training.checkpoint_management) is deprecated and will be removed in a future version.\n",
            "Instructions for updating:\n",
            "Use standard file APIs to delete files with this prefix.\n",
            "INFO:tensorflow:Loss for final step: 19.43514.\n",
            "INFO:tensorflow:Calling model_fn.\n",
            "INFO:tensorflow:Done calling model_fn.\n",
            "INFO:tensorflow:Starting evaluation at 2019-06-02T16:38:05Z\n",
            "INFO:tensorflow:Graph was finalized.\n",
            "INFO:tensorflow:Restoring parameters from data/fashionlinear/model.ckpt-5500\n",
            "INFO:tensorflow:Running local_init_op.\n",
            "INFO:tensorflow:Done running local_init_op.\n",
            "INFO:tensorflow:Finished evaluation at 2019-06-02-16:38:05\n",
            "INFO:tensorflow:Saving dict for global step 5500: accuracy = 0.9262, average_loss = 0.27127582, global_step = 5500, loss = 27.127583\n",
            "INFO:tensorflow:Saving 'checkpoint_path' summary for global step 5500: data/fashionlinear/model.ckpt-5500\n",
            "0.9262\n"
          ],
          "name": "stdout"
        }
      ]
    },
    {
      "cell_type": "markdown",
      "metadata": {
        "id": "pfnBDU-4Xq_k",
        "colab_type": "text"
      },
      "source": [
        "**Let's look at the accuracy**"
      ]
    },
    {
      "cell_type": "markdown",
      "metadata": {
        "id": "_ibG30bxGbcO",
        "colab_type": "text"
      },
      "source": [
        "*      **92.62% accuracy** . The Linear model looks realtively accurate.\n",
        "\n",
        "# Model III\n",
        "\n",
        "## Deep Neural Network-DNN Classifier"
      ]
    },
    {
      "cell_type": "code",
      "metadata": {
        "id": "FQ0UdO27GTbc",
        "colab_type": "code",
        "outputId": "412fda75-ba5a-430c-9812-2a4b7b701617",
        "colab": {
          "base_uri": "https://localhost:8080/",
          "height": 312
        }
      },
      "source": [
        "deep_classifier = tf.estimator.DNNClassifier(\n",
        "        feature_columns=feature_columns, \n",
        "        n_classes=10,\n",
        "        hidden_units=[100, 75, 50],\n",
        "        model_dir=base_model_dir + \"deep\"\n",
        "    )"
      ],
      "execution_count": 154,
      "outputs": [
        {
          "output_type": "stream",
          "text": [
            "INFO:tensorflow:Using default config.\n",
            "INFO:tensorflow:Using config: {'_model_dir': 'data/fashiondeep', '_tf_random_seed': None, '_save_summary_steps': 100, '_save_checkpoints_steps': None, '_save_checkpoints_secs': 600, '_session_config': allow_soft_placement: true\n",
            "graph_options {\n",
            "  rewrite_options {\n",
            "    meta_optimizer_iterations: ONE\n",
            "  }\n",
            "}\n",
            ", '_keep_checkpoint_max': 5, '_keep_checkpoint_every_n_hours': 10000, '_log_step_count_steps': 100, '_train_distribute': None, '_device_fn': None, '_protocol': None, '_eval_distribute': None, '_experimental_distribute': None, '_service': None, '_cluster_spec': <tensorflow.python.training.server_lib.ClusterSpec object at 0x7fd6f9e17240>, '_task_type': 'worker', '_task_id': 0, '_global_id_in_cluster': 0, '_master': '', '_evaluation_master': '', '_is_chief': True, '_num_ps_replicas': 0, '_num_worker_replicas': 1}\n"
          ],
          "name": "stdout"
        }
      ]
    },
    {
      "cell_type": "markdown",
      "metadata": {
        "id": "xz0J6P3vZklf",
        "colab_type": "text"
      },
      "source": [
        "**Train the DNN Classifier**"
      ]
    },
    {
      "cell_type": "code",
      "metadata": {
        "id": "rnNgR6OCQhKS",
        "colab_type": "code",
        "outputId": "73942ed0-e270-4c6b-c844-75dca2c0a8de",
        "colab": {
          "base_uri": "https://localhost:8080/",
          "height": 581
        }
      },
      "source": [
        "\n",
        "deep_classifier.train(input_fn=make_input_fn(DATA_SETS.train, batch_size=100, num_epochs=2, shuffle=True))"
      ],
      "execution_count": 155,
      "outputs": [
        {
          "output_type": "stream",
          "text": [
            "INFO:tensorflow:Calling model_fn.\n",
            "INFO:tensorflow:Done calling model_fn.\n",
            "INFO:tensorflow:Create CheckpointSaverHook.\n",
            "INFO:tensorflow:Graph was finalized.\n",
            "INFO:tensorflow:Restoring parameters from data/fashiondeep/model.ckpt-3300\n",
            "INFO:tensorflow:Running local_init_op.\n",
            "INFO:tensorflow:Done running local_init_op.\n",
            "INFO:tensorflow:Saving checkpoints for 3300 into data/fashiondeep/model.ckpt.\n",
            "INFO:tensorflow:loss = 6.4858823, step = 3301\n",
            "INFO:tensorflow:global_step/sec: 194.559\n",
            "INFO:tensorflow:loss = 3.4468882, step = 3401 (0.516 sec)\n",
            "INFO:tensorflow:global_step/sec: 213.444\n",
            "INFO:tensorflow:loss = 3.0807104, step = 3501 (0.469 sec)\n",
            "INFO:tensorflow:global_step/sec: 214.066\n",
            "INFO:tensorflow:loss = 2.9931421, step = 3601 (0.471 sec)\n",
            "INFO:tensorflow:global_step/sec: 219.972\n",
            "INFO:tensorflow:loss = 4.979453, step = 3701 (0.450 sec)\n",
            "INFO:tensorflow:global_step/sec: 219.483\n",
            "INFO:tensorflow:loss = 4.195735, step = 3801 (0.455 sec)\n",
            "INFO:tensorflow:global_step/sec: 216.357\n",
            "INFO:tensorflow:loss = 14.466613, step = 3901 (0.462 sec)\n",
            "INFO:tensorflow:global_step/sec: 215.328\n",
            "INFO:tensorflow:loss = 3.9485319, step = 4001 (0.469 sec)\n",
            "INFO:tensorflow:global_step/sec: 221.402\n",
            "INFO:tensorflow:loss = 2.6881487, step = 4101 (0.448 sec)\n",
            "INFO:tensorflow:global_step/sec: 211.678\n",
            "INFO:tensorflow:loss = 6.4162984, step = 4201 (0.472 sec)\n",
            "INFO:tensorflow:global_step/sec: 213.132\n",
            "INFO:tensorflow:loss = 0.62084067, step = 4301 (0.469 sec)\n",
            "INFO:tensorflow:Saving checkpoints for 4400 into data/fashiondeep/model.ckpt.\n",
            "INFO:tensorflow:Loss for final step: 3.962448.\n"
          ],
          "name": "stdout"
        },
        {
          "output_type": "execute_result",
          "data": {
            "text/plain": [
              "<tensorflow_estimator.python.estimator.canned.dnn.DNNClassifier at 0x7fd6f9e17080>"
            ]
          },
          "metadata": {
            "tags": []
          },
          "execution_count": 155
        }
      ]
    },
    {
      "cell_type": "markdown",
      "metadata": {
        "id": "3JA0jfFKZs2p",
        "colab_type": "text"
      },
      "source": [
        "## Accuracy "
      ]
    },
    {
      "cell_type": "code",
      "metadata": {
        "id": "F6QEmpeaGt-7",
        "colab_type": "code",
        "outputId": "161dd8cd-c4db-4a2e-df16-c83e7081ac6c",
        "colab": {
          "base_uri": "https://localhost:8080/",
          "height": 342
        }
      },
      "source": [
        "\n",
        "accuracy_score = deep_classifier.evaluate(input_fn=make_input_fn(DATA_SETS.test, batch_size=100, num_epochs=1, shuffle=False))['accuracy']\n",
        "\n",
        "print(accuracy_score)"
      ],
      "execution_count": 156,
      "outputs": [
        {
          "output_type": "stream",
          "text": [
            "INFO:tensorflow:Calling model_fn.\n",
            "INFO:tensorflow:Done calling model_fn.\n",
            "INFO:tensorflow:Starting evaluation at 2019-06-02T16:38:44Z\n",
            "INFO:tensorflow:Graph was finalized.\n",
            "INFO:tensorflow:Restoring parameters from data/fashiondeep/model.ckpt-4400\n",
            "INFO:tensorflow:Running local_init_op.\n",
            "INFO:tensorflow:Done running local_init_op.\n",
            "INFO:tensorflow:Finished evaluation at 2019-06-02-16:38:45\n",
            "INFO:tensorflow:Saving dict for global step 4400: accuracy = 0.9714, average_loss = 0.09980279, global_step = 4400, loss = 9.980279\n",
            "INFO:tensorflow:Saving 'checkpoint_path' summary for global step 4400: data/fashiondeep/model.ckpt-4400\n",
            "0.9714\n"
          ],
          "name": "stdout"
        }
      ]
    },
    {
      "cell_type": "markdown",
      "metadata": {
        "id": "lsf2n2p6aZxD",
        "colab_type": "text"
      },
      "source": [
        "*      **97.14% accuracy** .Apperantly, the DNN model seems more accurate than the Linear Model."
      ]
    },
    {
      "cell_type": "markdown",
      "metadata": {
        "id": "X14dXxk7VGzP",
        "colab_type": "text"
      },
      "source": [
        "## Prediction"
      ]
    },
    {
      "cell_type": "code",
      "metadata": {
        "id": "YItzfToUVEI6",
        "colab_type": "code",
        "outputId": "3b3826bb-1f31-4bbb-879d-f351dfa8dfcb",
        "colab": {
          "base_uri": "https://localhost:8080/",
          "height": 528
        }
      },
      "source": [
        "predict_input_fn = tf.estimator.inputs.numpy_input_fn(        \n",
        "        x={'pixels': DATA_SETS.test.images[5000:5005]},\n",
        "        batch_size=1,\n",
        "        num_epochs=1,\n",
        "        shuffle=False)\n",
        "predictions = deep_classifier.predict(input_fn=predict_input_fn)\n",
        "\n",
        "for prediction in predictions:\n",
        "    print(\"Predictions:    {} with probabilities {}\\n\".format(\n",
        "        prediction[\"classes\"], prediction[\"probabilities\"]))\n",
        "print('Expected answers values: {}'.format(\n",
        "    DATA_SETS.test.labels[5000:5005]))\n",
        "  "
      ],
      "execution_count": 157,
      "outputs": [
        {
          "output_type": "stream",
          "text": [
            "INFO:tensorflow:Calling model_fn.\n",
            "INFO:tensorflow:Done calling model_fn.\n",
            "INFO:tensorflow:Graph was finalized.\n",
            "INFO:tensorflow:Restoring parameters from data/fashiondeep/model.ckpt-4400\n",
            "INFO:tensorflow:Running local_init_op.\n",
            "INFO:tensorflow:Done running local_init_op.\n",
            "Predictions:    [b'3'] with probabilities [1.5949964e-11 2.2381606e-08 1.9674955e-08 9.9999619e-01 3.4887798e-11\n",
            " 3.0397557e-06 3.5636031e-13 8.5033791e-10 2.4846202e-08 6.8948845e-07]\n",
            "\n",
            "Predictions:    [b'9'] with probabilities [8.6142400e-06 4.1864982e-06 1.1619961e-05 3.7277681e-05 6.2438552e-03\n",
            " 1.3175946e-05 6.8635089e-08 6.7460387e-06 2.0495688e-03 9.9162489e-01]\n",
            "\n",
            "Predictions:    [b'9'] with probabilities [3.7824455e-09 7.4125472e-10 1.0934019e-08 1.0548690e-08 4.1404855e-06\n",
            " 2.3850239e-11 4.6680758e-14 1.3499181e-09 3.5298747e-08 9.9999583e-01]\n",
            "\n",
            "Predictions:    [b'8'] with probabilities [1.0572155e-09 7.1485812e-10 2.5763097e-07 1.2856511e-06 1.2562117e-10\n",
            " 4.4921440e-09 3.1655501e-11 8.5197231e-11 9.9999809e-01 3.1341591e-07]\n",
            "\n",
            "Predictions:    [b'4'] with probabilities [9.90261345e-12 2.84012553e-11 5.51182641e-11 1.12045234e-13\n",
            " 1.00000000e+00 8.07582039e-12 1.78925728e-11 2.23328955e-09\n",
            " 3.39413810e-11 1.35150620e-08]\n",
            "\n",
            "Expected answers values: [3 9 9 8 4]\n"
          ],
          "name": "stdout"
        }
      ]
    },
    {
      "cell_type": "code",
      "metadata": {
        "id": "3aBW51UDXtBK",
        "colab_type": "code",
        "outputId": "b2fdda68-cbe6-426b-e438-e08409fe4b93",
        "colab": {
          "base_uri": "https://localhost:8080/",
          "height": 1337
        }
      },
      "source": [
        "import matplotlib.pyplot as plt\n",
        "%matplotlib inline\n",
        "\n",
        "for i in range(5000,5005):\n",
        "    sample = np.reshape(DATA_SETS.test.images[i], (28,28))\n",
        "    plt.figure()\n",
        "    plt.title(\"Correct label: {}\".format(DATA_SETS.test.labels[i]))\n",
        "    plt.imshow(sample, 'gray')"
      ],
      "execution_count": 158,
      "outputs": [
        {
          "output_type": "display_data",
          "data": {
            "image/png": "[encoded data removed]",
            "text/plain": [
              "<Figure size 432x288 with 1 Axes>"
            ]
          },
          "metadata": {
            "tags": []
          }
        },
        {
          "output_type": "display_data",
          "data": {
            "image/png": "[encoded data removed]",
            "text/plain": [
              "<Figure size 432x288 with 1 Axes>"
            ]
          },
          "metadata": {
            "tags": []
          }
        },
        {
          "output_type": "display_data",
          "data": {
            "image/png": "[encoded data removed]",
            "text/plain": [
              "<Figure size 432x288 with 1 Axes>"
            ]
          },
          "metadata": {
            "tags": []
          }
        },
        {
          "output_type": "display_data",
          "data": {
            "image/png": "[encoded data removed]",
            "text/plain": [
              "<Figure size 432x288 with 1 Axes>"
            ]
          },
          "metadata": {
            "tags": []
          }
        },
        {
          "output_type": "display_data",
          "data": {
            "image/png": "[encoded data removed]",
            "text/plain": [
              "<Figure size 432x288 with 1 Axes>"
            ]
          },
          "metadata": {
            "tags": []
          }
        }
      ]
    },
    {
      "cell_type": "markdown",
      "metadata": {
        "id": "PQgJmh4yR9nY",
        "colab_type": "text"
      },
      "source": [
        "*      **97.14% accuracy** . It seems the model is pretty accurate. Apparently, the DNN classifier seems more accurate than the Linear classifier"
      ]
    },
    {
      "cell_type": "markdown",
      "metadata": {
        "id": "akJWJKbZGvWU",
        "colab_type": "text"
      },
      "source": [
        "\n",
        " \n",
        "# **Answer the following questions**\n",
        "*   **What is the accuracy of each method?**\n",
        "\n",
        "\n",
        "\n",
        "\n",
        "*   Keras  :89.12\n",
        "*   Linear : 92.36%\n",
        "*   **DNN:97.14%**\n",
        "\n",
        "\n",
        "\n"
      ]
    },
    {
      "cell_type": "markdown",
      "metadata": {
        "id": "SRCTtJBrG1qS",
        "colab_type": "text"
      },
      "source": [
        "*   **What are the trade-offs of each approach?**\n",
        "\n",
        "Keras  classifier iteration takes more time than both Linear and DNN. DNN seems relatively more accurate and faster than any other models. However, high accuaracy has a high overfitting risk too."
      ]
    },
    {
      "cell_type": "markdown",
      "metadata": {
        "id": "9IwgSUYaG46M",
        "colab_type": "text"
      },
      "source": [
        "*   **What is the compute performance of each approach?**\n",
        "\n",
        "*   Keras Classifier : 41.56 seconds \n",
        "*   DNN Classifier   : 6.986 seconds\n",
        "*   Linear Classifier: 4.798 seconds\n",
        "\n"
      ]
    },
    {
      "cell_type": "code",
      "metadata": {
        "id": "TJi6pISpG5yb",
        "colab_type": "code",
        "colab": {}
      },
      "source": [
        ""
      ],
      "execution_count": 0,
      "outputs": []
    },
    {
      "cell_type": "markdown",
      "metadata": {
        "id": "V3sUyDvU_f3X",
        "colab_type": "text"
      },
      "source": [
        ""
      ]
    }
  ]
}